{
 "cells": [
  {
   "cell_type": "code",
   "execution_count": 1,
   "id": "cd296fd9-e71b-47c8-b607-37d38ecbb38a",
   "metadata": {},
   "outputs": [],
   "source": [
    "# import os\n",
    "# edito_user=\"dummy-user\" "
   ]
  },
  {
   "cell_type": "code",
   "execution_count": 2,
   "id": "a55cf27b-dfda-4cdc-9e0a-6ca095406123",
   "metadata": {},
   "outputs": [],
   "source": [
    "# # Quick-configure ( user-level database)\n",
    "# !autosubmit configure"
   ]
  },
  {
   "cell_type": "code",
   "execution_count": 3,
   "id": "f40422d8-6fb1-4431-9a18-7e16e881a98e",
   "metadata": {},
   "outputs": [],
   "source": [
    "# # Install\n",
    "# !autosubmit install"
   ]
  },
  {
   "cell_type": "code",
   "execution_count": 1,
   "id": "03cb125a-443b-4ca0-801d-380593fde423",
   "metadata": {},
   "outputs": [],
   "source": [
    "%%capture output --no-stderr\n",
    "exp_description = \"Gulf of Taranto downscaling experiment workflow.\"\n",
    "repo = \"https://github.com/luca-giunti/surf-autosubmit\"\n",
    "branch = \"main\"\n",
    "conf_path = \"surf_nemo/gulfTaranto_20141005/conf/\"\n",
    "!autosubmit expid -min -H \"local\" -repo {repo} -b {branch} -conf {conf_path} -d \"{exp_description}\""
   ]
  },
  {
   "cell_type": "code",
   "execution_count": 2,
   "id": "a09d0532-f248-4d08-901a-4dcdf7854ad1",
   "metadata": {},
   "outputs": [
    {
     "name": "stdout",
     "output_type": "stream",
     "text": [
      "a00h\n"
     ]
    }
   ],
   "source": [
    "#Get Expid directly from this output for the other commands\n",
    "expid_command_output = output.stdout\n",
    "expid = expid_command_output.split(\"\\r\\n\")[-2].split(\" \")[1]\n",
    "print(expid)\n",
    "exp_root=f\"/Users/lgiunti/autosubmit/{expid}\""
   ]
  },
  {
   "cell_type": "code",
   "execution_count": 3,
   "id": "ab89ad62-a6d7-456c-8c84-367be521fcac",
   "metadata": {},
   "outputs": [
    {
     "name": "stdout",
     "output_type": "stream",
     "text": [
      "Autosubmit is running with 4.0.105\n",
      "Cloning main https://github.com/luca-giunti/surf-autosubmit into /Users/lgiunti/autosubmit/a00h/proj\n",
      "Cloning into 'git_project'...\n",
      "remote: Enumerating objects: 93, done.\u001b[K\n",
      "remote: Counting objects: 100% (77/77), done.\u001b[K\n",
      "remote: Compressing objects: 100% (51/51), done.\u001b[K\n",
      "remote: Total 93 (delta 23), reused 61 (delta 9), pack-reused 16\u001b[K\n",
      "Receiving objects: 100% (93/93), 95.45 MiB | 21.73 MiB/s, done.\n",
      "Resolving deltas: 100% (23/23), done.\n",
      "\u001b[32mProject folder updated\u001b[0m\u001b[39m\n"
     ]
    }
   ],
   "source": [
    "# This command downloads the git_repo and, by default, puts it inside the folder {exp_root}/proj/git_project\n",
    "!autosubmit refresh {expid} -v"
   ]
  },
  {
   "cell_type": "code",
   "execution_count": 4,
   "id": "b3c748bc-4696-4c92-9a83-7220b0516baa",
   "metadata": {},
   "outputs": [
    {
     "name": "stdout",
     "output_type": "stream",
     "text": [
      "Autosubmit is running with 4.0.105\n",
      "Preparing .lock file to avoid multiple instances with same expid.\n",
      "Using project folder: /Users/lgiunti/autosubmit/a00h/proj\n",
      "\n",
      "Checking configuration files...\n",
      "\u001b[32mExpdef config file is correct\u001b[0m\u001b[39m\n",
      "\u001b[32mPlatforms sections: OK\u001b[0m\u001b[39m\n",
      "\u001b[32mJobs sections OK\u001b[0m\u001b[39m\n",
      "\u001b[32mAutosubmit general sections OK\u001b[0m\u001b[39m\n",
      "\u001b[32mConfiguration files OK\n",
      "\u001b[0m\u001b[39m\n",
      "Loading parameters...\n",
      "\n",
      "Creating the jobs list...\n",
      "Creating jobs...\n",
      "Loading JobList\n",
      "Adding dependencies...\n",
      "Removing redundant dependencies...\n",
      "Updating structure persistence...\n",
      "Looking for edgeless jobs...\n",
      "Creating jobs...\n",
      "Adding dependencies...\n",
      "Removing redundant dependencies...\n",
      "Updating structure persistence...\n",
      "Looking for edgeless jobs...\n",
      "\n",
      "Saving the jobs list...\n",
      "/bin/sh: /Users/lgiunti/autosubmit/metadata/data/job_data_a00h.sql: No such file or directory\n",
      "\n",
      "Saving unified data..\n",
      "\n",
      "\n",
      "Plotting the jobs list...\n",
      "Plotting...\n",
      "\u001b[32mPlot created at /Users/lgiunti/autosubmit/a00h/plot/a00h_20240606_1805.pdf\u001b[0m\u001b[39m\n",
      "Writing status txt...\n",
      "\u001b[32mStatus txt created at <_io.TextIOWrapper name='/Users/lgiunti/autosubmit/a00h/status/a00h_20240606_1805.txt' mode='w+' encoding='utf-8'>\u001b[0m\u001b[39m\n",
      "\u001b[32m\n",
      "Job list created successfully\u001b[0m\u001b[39m\n"
     ]
    }
   ],
   "source": [
    "!autosubmit create {expid} -v"
   ]
  },
  {
   "cell_type": "code",
   "execution_count": 14,
   "id": "3b1a9895-c052-48ca-93a5-7cec085c570d",
   "metadata": {},
   "outputs": [],
   "source": [
    "# FileStructure\n",
    "# !tree -L 2 {exp_root}"
   ]
  },
  {
   "cell_type": "code",
   "execution_count": 5,
   "id": "90f42b57-780c-4b94-8331-104bc2326084",
   "metadata": {},
   "outputs": [
    {
     "name": "stdout",
     "output_type": "stream",
     "text": [
      "Autosubmit is running with 4.0.105\n",
      "\n",
      "Checking configuration files...\n",
      "\u001b[32mExpdef config file is correct\u001b[0m\u001b[39m\n",
      "\u001b[32mPlatforms sections: OK\u001b[0m\u001b[39m\n",
      "\u001b[32mJobs sections OK\u001b[0m\u001b[39m\n",
      "\u001b[32mAutosubmit general sections OK\u001b[0m\u001b[39m\n",
      "\u001b[32mConfiguration files OK\n",
      "\u001b[0m\u001b[39m\n",
      "\u001b[H\u001b[2JCreating jobs...\n",
      "Loading JobList\n",
      "Adding dependencies...\n",
      "Removing redundant dependencies...\n",
      "Updating structure persistence...\n",
      "Looking for edgeless jobs...\n",
      "Checking scripts...\n",
      "1 of 1 checked\n",
      "\u001b[32mScripts OK\u001b[0m\u001b[39m\n",
      "Autosubmit is running with v4.0.105\n",
      "/bin/sh: /Users/lgiunti/autosubmit/metadata/data/job_data_a00h.sql: No such file or directory\n",
      "Checking the connection to all platforms in use\n",
      "\u001b[32m[local] Correct user privileges for host localhost\u001b[0m\u001b[39m\n",
      "\u001b[32m[local] Connection successful to host localhost\u001b[0m\u001b[39m\n",
      "\n",
      "\n",
      "1 of 1 jobs remaining (18:05)\n",
      "No jobs to check for platform local\n",
      "a00h_RUN submitted\n",
      "Call from a00h_RUN with status SUBMITTED\n",
      "\n",
      "\n",
      "1 of 1 jobs remaining (18:05)\n",
      "Checking 1 jobs for platform local\n",
      "\u001b[32mJob a00h_RUN is COMPLETED\u001b[0m\u001b[39m\n",
      "/bin/sh: /Users/lgiunti/autosubmit/metadata/data/job_data_a00h.sql: No such file or directory\n",
      "\u001b[32mNo more jobs to run.\u001b[0m\u001b[39m\n",
      "/bin/sh: /Users/lgiunti/autosubmit/metadata/data/job_data_a00h.sql: No such file or directory\n",
      "\u001b[32mRun successful\u001b[0m\u001b[39m\n",
      "Traceback (most recent call last):\n",
      "  File \"/Users/lgiunti/anaconda3/lib/python3.11/site-packages/autosubmit/autosubmit.py\", line 2269, in run_experiment\n",
      "    exp_history.finish_current_experiment_run()\n",
      "  File \"/Users/lgiunti/anaconda3/lib/python3.11/site-packages/autosubmit/history/experiment_history.py\", line 253, in finish_current_experiment_run\n",
      "    if self.manager.is_there_a_last_experiment_run():\n",
      "       ^^^^^^^^^^^^^^^^^^^^^^^^^^^^^^^^^^^^^^^^^^^^^\n",
      "  File \"/Users/lgiunti/anaconda3/lib/python3.11/site-packages/autosubmit/history/database_managers/experiment_history_db_manager.py\", line 189, in is_there_a_last_experiment_run\n",
      "    max_experiment_run = self.get_from_statement(self.historicaldb_file_path, statement)\n",
      "                         ^^^^^^^^^^^^^^^^^^^^^^^^^^^^^^^^^^^^^^^^^^^^^^^^^^^^^^^^^^^^^^^\n",
      "  File \"/Users/lgiunti/anaconda3/lib/python3.11/site-packages/autosubmit/history/database_managers/database_manager.py\", line 96, in get_from_statement\n",
      "    conn = self.get_connection(path)\n",
      "           ^^^^^^^^^^^^^^^^^^^^^^^^^\n",
      "  File \"/Users/lgiunti/anaconda3/lib/python3.11/site-packages/autosubmit/history/database_managers/database_manager.py\", line 45, in get_connection\n",
      "    self._create_database_file(path)\n",
      "  File \"/Users/lgiunti/anaconda3/lib/python3.11/site-packages/autosubmit/history/database_managers/database_manager.py\", line 52, in _create_database_file\n",
      "    os.open(path, os.O_WRONLY | os.O_CREAT, 0o776)\n",
      "FileNotFoundError: [Errno 2] No such file or directory: '/Users/lgiunti/autosubmit/metadata/data/job_data_a00h.db'\n",
      "\n",
      "During handling of the above exception, another exception occurred:\n",
      "\n",
      "Traceback (most recent call last):\n",
      "  File \"/Users/lgiunti/anaconda3/bin/autosubmit\", line 37, in main\n",
      "    return_value = Autosubmit.parse_args()\n",
      "                   ^^^^^^^^^^^^^^^^^^^^^^^\n",
      "  File \"/Users/lgiunti/anaconda3/lib/python3.11/site-packages/autosubmit/autosubmit.py\", line 662, in parse_args\n",
      "    return Autosubmit.run_experiment(args.expid, args.notransitive,args.start_time,args.start_after, args.run_only_members, args.profile)\n",
      "           ^^^^^^^^^^^^^^^^^^^^^^^^^^^^^^^^^^^^^^^^^^^^^^^^^^^^^^^^^^^^^^^^^^^^^^^^^^^^^^^^^^^^^^^^^^^^^^^^^^^^^^^^^^^^^^^^^^^^^^^^^^^^^^\n",
      "  File \"/Users/lgiunti/anaconda3/lib/python3.11/site-packages/autosubmit/autosubmit.py\", line 2276, in run_experiment\n",
      "    raise AutosubmitCritical(\"This seems like a bug in the code, please contact AS developers\", 7070, str(e))\n",
      "log.log.AutosubmitCritical:  \n",
      "\u001b[38;5;214m[ERROR] Trace: [Errno 2] No such file or directory: '/Users/lgiunti/autosubmit/metadata/data/job_data_a00h.db'\u001b[0m\u001b[39m\n",
      "\u001b[1m \u001b[31m[CRITICAL] This seems like a bug in the code, please contact AS developers [eCode=7070]\u001b[0m\u001b[39m\n",
      "More info at https://autosubmit.readthedocs.io/en/master/troubleshooting/error-codes.html\n"
     ]
    }
   ],
   "source": [
    "!autosubmit run {expid} "
   ]
  },
  {
   "cell_type": "code",
   "execution_count": null,
   "id": "61ad94c9-2d6c-41ef-81ec-d6759c3d3d29",
   "metadata": {},
   "outputs": [],
   "source": []
  }
 ],
 "metadata": {
  "kernelspec": {
   "display_name": "Python 3 (ipykernel)",
   "language": "python",
   "name": "python3"
  },
  "language_info": {
   "codemirror_mode": {
    "name": "ipython",
    "version": 3
   },
   "file_extension": ".py",
   "mimetype": "text/x-python",
   "name": "python",
   "nbconvert_exporter": "python",
   "pygments_lexer": "ipython3",
   "version": "3.11.5"
  }
 },
 "nbformat": 4,
 "nbformat_minor": 5
}
